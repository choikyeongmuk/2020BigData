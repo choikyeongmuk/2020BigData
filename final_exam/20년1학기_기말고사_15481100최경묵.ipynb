{
  "nbformat": 4,
  "nbformat_minor": 0,
  "metadata": {
    "colab": {
      "name": "20년1학기-기말고사.ipynb",
      "provenance": [],
      "collapsed_sections": []
    },
    "kernelspec": {
      "name": "python3",
      "display_name": "Python 3"
    }
  },
  "cells": [
    {
      "cell_type": "markdown",
      "metadata": {
        "id": "USdoQTkkAfiU",
        "colab_type": "text"
      },
      "source": [
        "# 2020년 1학기 기말시험"
      ]
    },
    {
      "cell_type": "markdown",
      "metadata": {
        "id": "Yg0l6Iz-NbQX",
        "colab_type": "text"
      },
      "source": [
        "# 이름 : 최경묵"
      ]
    },
    {
      "cell_type": "markdown",
      "metadata": {
        "id": "dde2pQdBKaXE",
        "colab_type": "text"
      },
      "source": [
        "https://colab.research.google.com/에 import하여 셀에 답을 적고 RUN하십시오. 출력한 결과에 따라 스코어링됩니다."
      ]
    },
    {
      "cell_type": "markdown",
      "metadata": {
        "id": "vytowRjHlN1F",
        "colab_type": "text"
      },
      "source": [
        "Q1. CNN 신경망에서 2D 컨볼루션 레이어를 거친 행렬의 값을 파이썬 array형태로 적으시오. 계산을 위해 계산기앱 또는 액셀을 사용해도 좋습니다.\n"
      ]
    },
    {
      "cell_type": "code",
      "metadata": {
        "id": "vO3cm719mB64",
        "colab_type": "code",
        "colab": {
          "base_uri": "https://localhost:8080/",
          "height": 52
        },
        "outputId": "2f19b357-1d44-4426-ce35-a86b51c17022"
      },
      "source": [
        "\"\"\" 문제\n",
        "x = [[1,2,3],\n",
        "     [4,5,6],\n",
        "     [7,8,9]]\n",
        "     \n",
        "kernel W =[[0,1],\n",
        "          [1,0]]\n",
        "\n",
        "Padding = VALID\n",
        "\n",
        "convolution을 한 결과를 행렬 y로 하여 print(y)로 출력하시오.\n",
        "\"\"\"\n",
        "import numpy as np\n",
        "\n",
        "y = np.array([[6,8],[12,14]])\n",
        "\n",
        "y= array \n",
        "print(y)"
      ],
      "execution_count": 33,
      "outputs": [
        {
          "output_type": "stream",
          "text": [
            "[[850   6]\n",
            " [ 50  94]]\n"
          ],
          "name": "stdout"
        }
      ]
    },
    {
      "cell_type": "markdown",
      "metadata": {
        "id": "ntyM0f5Rgq5t",
        "colab_type": "text"
      },
      "source": [
        "Q2, 아래의 Confusion Matrix를 보고 질문에 답하시오"
      ]
    },
    {
      "cell_type": "code",
      "metadata": {
        "id": "cjqJY4QkYg55",
        "colab_type": "code",
        "outputId": "cbe9afca-6441-4385-e42c-a75fe59317ee",
        "colab": {
          "base_uri": "https://localhost:8080/",
          "height": 314
        }
      },
      "source": [
        "# 문제 : 아래의 혼동행렬을 보고 TPR과 FNR을 계산하시오. 단 계산하는 공식을 파이썬으로 코딩하여 값을 구하시오.\n",
        "# 혼동행렬의 row는 실제값, column은 예측값, (1,1)이 True & Positive\n",
        "# 정의 : TPR = True Postive rate, FNR = False Negative rate\n",
        "import seaborn as sn\n",
        "import pandas as pd\n",
        "import matplotlib.pyplot as plt\n",
        "import numpy as np\n",
        "\n",
        "array = np.array([[850,6],\n",
        "                  [50,94]])         \n",
        "\n",
        "sn.set(font_scale=2.0) # for label size\n",
        "sn.heatmap(array, annot=True, annot_kws={\"size\": 18}, fmt='d') # font size\n",
        "\n",
        "plt.show()"
      ],
      "execution_count": 3,
      "outputs": [
        {
          "output_type": "stream",
          "text": [
            "/usr/local/lib/python3.6/dist-packages/statsmodels/tools/_testing.py:19: FutureWarning: pandas.util.testing is deprecated. Use the functions in the public API at pandas.testing instead.\n",
            "  import pandas.util.testing as tm\n"
          ],
          "name": "stderr"
        },
        {
          "output_type": "display_data",
          "data": {
            "image/png": "[encoded data removed]",
            "text/plain": [
              "<Figure size 432x288 with 2 Axes>"
            ]
          },
          "metadata": {
            "tags": []
          }
        }
      ]
    },
    {
      "cell_type": "code",
      "metadata": {
        "id": "1cwqB8OwUa36",
        "colab_type": "code",
        "outputId": "795cad1f-9dbc-4257-d4dc-6a2905f7227a",
        "colab": {
          "base_uri": "https://localhost:8080/",
          "height": 34
        }
      },
      "source": [
        "# Q2.1 TPR=?  아래에 계산식을 쓰고 Run 시키시오\n",
        "# 여러분의 코드 \n",
        "array = np.array(array)\n",
        "tpr=array[0,0]/(array[0,0]+array[1,0])\n",
        "print('TPR값은 ', tpr)"
      ],
      "execution_count": 6,
      "outputs": [
        {
          "output_type": "stream",
          "text": [
            "TPR깂은  0.9444444444444444\n"
          ],
          "name": "stdout"
        }
      ]
    },
    {
      "cell_type": "code",
      "metadata": {
        "id": "BzOe-Zgqkgdc",
        "colab_type": "code",
        "colab": {
          "base_uri": "https://localhost:8080/",
          "height": 34
        },
        "outputId": "e4fea90d-a175-4b6b-d251-0865454a91d8"
      },
      "source": [
        "# Q2.2 FNR 계산을 위한 코드를 쓰고  Run하시오\n",
        "# 여러분의 코드 \n",
        "array = np.array(array)\n",
        "fnr=array[1,0]/(array[0,0]+array[1,0])\n",
        "print('FNR값은 ', fnr)"
      ],
      "execution_count": 10,
      "outputs": [
        {
          "output_type": "stream",
          "text": [
            "FNR값은  0.05555555555555555\n"
          ],
          "name": "stdout"
        }
      ]
    },
    {
      "cell_type": "code",
      "metadata": {
        "id": "TK_zjLxMEiVM",
        "colab_type": "code",
        "colab": {
          "base_uri": "https://localhost:8080/",
          "height": 34
        },
        "outputId": "567d7c28-455e-40d6-e755-4bf98e41dcb3"
      },
      "source": [
        "#  Q2.3 accurary 계산을 위한 코드를 쓰고  Run하시오\n",
        "# 여러분의 코드\n",
        "array = np.array(array)\n",
        "acc=(array[0,0]+array[1,1])/(array[0,0]+array[0,1]+array[1,0]+array[1,1])\n",
        "print('accuracy값은 ', acc)"
      ],
      "execution_count": 9,
      "outputs": [
        {
          "output_type": "stream",
          "text": [
            "accuracy값은  0.944\n"
          ],
          "name": "stdout"
        }
      ]
    },
    {
      "cell_type": "markdown",
      "metadata": {
        "id": "yukDPytdDmt7",
        "colab_type": "text"
      },
      "source": [
        "\n",
        "Q3. 다음 신경망 다이어그램을 보고 이를 구현하기 위한 파이썬 코드를 완성하시오"
      ]
    },
    {
      "cell_type": "code",
      "metadata": {
        "id": "dbbSoyMeINdZ",
        "colab_type": "code",
        "outputId": "f327582d-0764-46b0-9179-ef9aaea8aea5",
        "colab": {
          "base_uri": "https://localhost:8080/",
          "height": 548
        }
      },
      "source": [
        "! wget --no-check-certificate 'https://docs.google.com/uc?export=download&id=1jGQthuWngRlgUq7masWosTq1LyzwUAS7' -O 퍼셉트론.png\n",
        "from IPython.display import Image\n",
        "Image(\"퍼셉트론.png\", width=500)  "
      ],
      "execution_count": 12,
      "outputs": [
        {
          "output_type": "stream",
          "text": [
            "--2020-06-10 04:50:25--  https://docs.google.com/uc?export=download&id=1jGQthuWngRlgUq7masWosTq1LyzwUAS7\n",
            "Resolving docs.google.com (docs.google.com)... 74.125.141.113, 74.125.141.100, 74.125.141.101, ...\n",
            "Connecting to docs.google.com (docs.google.com)|74.125.141.113|:443... connected.\n",
            "HTTP request sent, awaiting response... 302 Moved Temporarily\n",
            "Location: https://doc-0s-1s-docs.googleusercontent.com/docs/securesc/ha0ro937gcuc7l7deffksulhg5h7mbp1/u2jrnibvh4tgdc4acq4qiianvgse5e4c/1591764600000/04591858293269658552/*/1jGQthuWngRlgUq7masWosTq1LyzwUAS7?e=download [following]\n",
            "Warning: wildcards not supported in HTTP.\n",
            "--2020-06-10 04:50:26--  https://doc-0s-1s-docs.googleusercontent.com/docs/securesc/ha0ro937gcuc7l7deffksulhg5h7mbp1/u2jrnibvh4tgdc4acq4qiianvgse5e4c/1591764600000/04591858293269658552/*/1jGQthuWngRlgUq7masWosTq1LyzwUAS7?e=download\n",
            "Resolving doc-0s-1s-docs.googleusercontent.com (doc-0s-1s-docs.googleusercontent.com)... 173.194.217.132, 2607:f8b0:400c:c13::84\n",
            "Connecting to doc-0s-1s-docs.googleusercontent.com (doc-0s-1s-docs.googleusercontent.com)|173.194.217.132|:443... connected.\n",
            "HTTP request sent, awaiting response... 200 OK\n",
            "Length: 18076 (18K) [image/png]\n",
            "Saving to: ‘퍼셉트론.png’\n",
            "\n",
            "퍼셉트론.png        100%[===================>]  17.65K  --.-KB/s    in 0s      \n",
            "\n",
            "2020-06-10 04:50:26 (71.7 MB/s) - ‘퍼셉트론.png’ saved [18076/18076]\n",
            "\n"
          ],
          "name": "stdout"
        },
        {
          "output_type": "execute_result",
          "data": {
            "image/png": "[encoded data removed]",
            "text/plain": [
              "<IPython.core.display.Image object>"
            ]
          },
          "metadata": {
            "tags": [],
            "image/png": {
              "width": 500
            }
          },
          "execution_count": 12
        }
      ]
    },
    {
      "cell_type": "code",
      "metadata": {
        "id": "wN6S1IvUt6jH",
        "colab_type": "code",
        "colab": {
          "base_uri": "https://localhost:8080/",
          "height": 222
        },
        "outputId": "0663141a-ba39-4a1e-f7ab-8a48d0b7a008"
      },
      "source": [
        "#Q3. 위의 그림에 맞는 신경망을 코드로 설계하시오.\n",
        "\n",
        "n = 500 # ?을 채우시오\n",
        "n_inputs = n  # ?을 채우시오\n",
        "n_hidden = n # ?을 채우시오 \n",
        "n_outputs = 2 # ?을 채우시오  \n",
        "X=tf.placeholder(tf.float64, shape=(None, n_inputs), name='X') # ?을 채우시오\n",
        "with tf.name_scope('nn'):\n",
        "  hidden1 = make_nn_layer('hidden', n_hidden, X, activation=tf.nn.relu) # ?을 채우시오\n",
        "  outputs = make_nn_layer('outputs', n_outputs, hidden1) # ?을 채우시오\n"
      ],
      "execution_count": 28,
      "outputs": [
        {
          "output_type": "error",
          "ename": "TypeError",
          "evalue": "ignored",
          "traceback": [
            "\u001b[0;31m---------------------------------------------------------------------------\u001b[0m",
            "\u001b[0;31mTypeError\u001b[0m                                 Traceback (most recent call last)",
            "\u001b[0;32m<ipython-input-28-39f51e4709cf>\u001b[0m in \u001b[0;36m<module>\u001b[0;34m()\u001b[0m\n\u001b[1;32m      7\u001b[0m \u001b[0mX\u001b[0m\u001b[0;34m=\u001b[0m\u001b[0mtf\u001b[0m\u001b[0;34m.\u001b[0m\u001b[0mplaceholder\u001b[0m\u001b[0;34m(\u001b[0m\u001b[0mtf\u001b[0m\u001b[0;34m.\u001b[0m\u001b[0mfloat64\u001b[0m\u001b[0;34m,\u001b[0m \u001b[0mshape\u001b[0m\u001b[0;34m=\u001b[0m\u001b[0;34m(\u001b[0m\u001b[0;32mNone\u001b[0m\u001b[0;34m,\u001b[0m \u001b[0mn_inputs\u001b[0m\u001b[0;34m)\u001b[0m\u001b[0;34m,\u001b[0m \u001b[0mname\u001b[0m\u001b[0;34m=\u001b[0m\u001b[0;34m'X'\u001b[0m\u001b[0;34m)\u001b[0m \u001b[0;31m# ?을 채우시오\u001b[0m\u001b[0;34m\u001b[0m\u001b[0;34m\u001b[0m\u001b[0m\n\u001b[1;32m      8\u001b[0m \u001b[0;32mwith\u001b[0m \u001b[0mtf\u001b[0m\u001b[0;34m.\u001b[0m\u001b[0mname_scope\u001b[0m\u001b[0;34m(\u001b[0m\u001b[0;34m'nn'\u001b[0m\u001b[0;34m)\u001b[0m\u001b[0;34m:\u001b[0m\u001b[0;34m\u001b[0m\u001b[0;34m\u001b[0m\u001b[0m\n\u001b[0;32m----> 9\u001b[0;31m   \u001b[0mhidden1\u001b[0m \u001b[0;34m=\u001b[0m \u001b[0mmake_nn_layer\u001b[0m\u001b[0;34m(\u001b[0m\u001b[0;34m'hidden'\u001b[0m\u001b[0;34m,\u001b[0m \u001b[0mn_hidden\u001b[0m\u001b[0;34m,\u001b[0m \u001b[0mX\u001b[0m\u001b[0;34m,\u001b[0m \u001b[0mactivation\u001b[0m\u001b[0;34m=\u001b[0m\u001b[0mtf\u001b[0m\u001b[0;34m.\u001b[0m\u001b[0mnn\u001b[0m\u001b[0;34m.\u001b[0m\u001b[0mrelu\u001b[0m\u001b[0;34m)\u001b[0m \u001b[0;31m# ?을 채우시오\u001b[0m\u001b[0;34m\u001b[0m\u001b[0;34m\u001b[0m\u001b[0m\n\u001b[0m\u001b[1;32m     10\u001b[0m   \u001b[0moutputs\u001b[0m \u001b[0;34m=\u001b[0m \u001b[0mmake_nn_layer\u001b[0m\u001b[0;34m(\u001b[0m\u001b[0;34m'outputs'\u001b[0m\u001b[0;34m,\u001b[0m \u001b[0mn_outputs\u001b[0m\u001b[0;34m,\u001b[0m \u001b[0mhidden1\u001b[0m\u001b[0;34m)\u001b[0m \u001b[0;31m# ?을 채우시오\u001b[0m\u001b[0;34m\u001b[0m\u001b[0;34m\u001b[0m\u001b[0m\n",
            "\u001b[0;31mTypeError\u001b[0m: make_nn_layer() got an unexpected keyword argument 'activation'"
          ]
        }
      ]
    },
    {
      "cell_type": "markdown",
      "metadata": {
        "id": "lZg0CU3IEoG-",
        "colab_type": "text"
      },
      "source": [
        "Q4. 아래의 표를 보고 Keras 코드를 완성하시오\n"
      ]
    },
    {
      "cell_type": "code",
      "metadata": {
        "id": "e78Ut02SEs6q",
        "colab_type": "code",
        "outputId": "a6d3238d-7251-402d-a89c-91f02bd3a66e",
        "colab": {
          "base_uri": "https://localhost:8080/",
          "height": 54
        }
      },
      "source": [
        "#Q4 표\n",
        "\"\"\"\n",
        "Layer (type)                 Output Shape              Param #   \n",
        "=================================================================\n",
        "conv2d_6 (Conv2D)            (None, 24, 24, 32)        832       \n",
        "_________________________________________________________________\n",
        "max_pooling2d_5 (MaxPooling2 (None, 12, 12, 32)        0         \n",
        "_________________________________________________________________\n",
        "dropout_6 (Dropout)          (None, 12, 12, 32)        0         \n",
        "_________________________________________________________________\n",
        "conv2d_7 (Conv2D)            (None, 10, 10, 64)        18496     \n",
        "_________________________________________________________________\n",
        "max_pooling2d_6 (MaxPooling2 (None, 5, 5, 64)          0         \n",
        "_________________________________________________________________\n",
        "dropout_7 (Dropout)          (None, 5, 5, 64)          0         \n",
        "_________________________________________________________________\n",
        "conv2d_8 (Conv2D)            (None, 5, 5, 128)         8320      \n",
        "_________________________________________________________________\n",
        "max_pooling2d_7 (MaxPooling2 (None, 2, 2, 128)         0         \n",
        "_________________________________________________________________\n",
        "dropout_8 (Dropout)          (None, 2, 2, 128)         0         \n",
        "_________________________________________________________________\n",
        "flatten_3 (Flatten)          (None, 512)               0         \n",
        "_________________________________________________________________\n",
        "dense_5 (Dense)              (None, 128)               65664     \n",
        "_________________________________________________________________\n",
        "dense_6 (Dense)              (None, 10)                1290      \n",
        "=================================================================\n",
        "\n",
        "\"\"\""
      ],
      "execution_count": 0,
      "outputs": [
        {
          "output_type": "execute_result",
          "data": {
            "text/plain": [
              "'\\nLayer (type)                 Output Shape              Param #   \\n=================================================================\\nconv2d_6 (Conv2D)            (None, 24, 24, 32)        832       \\n_________________________________________________________________\\nmax_pooling2d_5 (MaxPooling2 (None, 12, 12, 32)        0         \\n_________________________________________________________________\\ndropout_6 (Dropout)          (None, 12, 12, 32)        0         \\n_________________________________________________________________\\nconv2d_7 (Conv2D)            (None, 10, 10, 64)        18496     \\n_________________________________________________________________\\nmax_pooling2d_6 (MaxPooling2 (None, 5, 5, 64)          0         \\n_________________________________________________________________\\ndropout_7 (Dropout)          (None, 5, 5, 64)          0         \\n_________________________________________________________________\\nconv2d_8 (Conv2D)            (None, 5, 5, 128)         8320      \\n_________________________________________________________________\\nmax_pooling2d_7 (MaxPooling2 (None, 2, 2, 128)         0         \\n_________________________________________________________________\\ndropout_8 (Dropout)          (None, 2, 2, 128)         0         \\n_________________________________________________________________\\nflatten_3 (Flatten)          (None, 512)               0         \\n_________________________________________________________________\\ndense_5 (Dense)              (None, 128)               65664     \\n_________________________________________________________________\\ndense_6 (Dense)              (None, 10)                1290      \\n=================================================================\\n\\n'"
            ]
          },
          "metadata": {
            "tags": []
          },
          "execution_count": 1
        }
      ]
    },
    {
      "cell_type": "code",
      "metadata": {
        "id": "c2RTLEClGqlC",
        "colab_type": "code",
        "colab": {
          "base_uri": "https://localhost:8080/",
          "height": 134
        },
        "outputId": "62263454-3957-4a61-cebc-3d5c03160655"
      },
      "source": [
        "# Q4. 이곳에 위의 표에 맞는 딥러닝의 모델을 Keras로 코딩하십시오. 모델 부문만 작성하고 마지막에 print로 summary를 출력하십시오.\n",
        "# 가정 1 : input은 24 x 24의 흑백 이미지\n",
        "# 가정 2 : convolution layer에서 사용하는 activation function은 ReLU로 통일 \n",
        "# 가정 3 : maxpooling 시 pool_size는 2 x 2\n",
        "# 가정 4 : dropout rate는 0.5\n",
        "# 가정 5 : dense_5 layer에서 사용하는 activation function은 ReLU\n",
        "# 가정 6 : dense_6 layer에서 사용하는 activation function은 softmax\n",
        "import keras\n",
        "from keras.models import Sequential\n",
        "from keras.layers import Dense, Dropout, Flatten\n",
        "from keras.layers import Conv2D, MaxPooling2D\n",
        "from keras import backend as K\n",
        "\n",
        "mymodel = Sequential()\n",
        "\n",
        "mymodel.add(Conv2D, input_shape(24,24),activation='relu')\n",
        "mymodel.add(MaxPooling2D(pool_size=(2,2))\n",
        "mymodel.add(Dropout(0.5))\n",
        "mymodel.add(Dense(128,activation='relu'))\n",
        "mymodel.add(Dense(10,activation='softmax))\n",
        "\n",
        "\n",
        "print(mymodel.summary())\n",
        "# The End"
      ],
      "execution_count": 32,
      "outputs": [
        {
          "output_type": "error",
          "ename": "SyntaxError",
          "evalue": "ignored",
          "traceback": [
            "\u001b[0;36m  File \u001b[0;32m\"<ipython-input-32-dff782ee7421>\"\u001b[0;36m, line \u001b[0;32m18\u001b[0m\n\u001b[0;31m    mymodel.add(Dropout(0.5))\u001b[0m\n\u001b[0m          ^\u001b[0m\n\u001b[0;31mSyntaxError\u001b[0m\u001b[0;31m:\u001b[0m invalid syntax\n"
          ]
        }
      ]
    },
    {
      "cell_type": "markdown",
      "metadata": {
        "id": "k6z0l1F6d_SU",
        "colab_type": "text"
      },
      "source": [
        "Q5. 아래  코드가 출력하는 그래프에서 validation loss 값이 모든 epoch 구간에서 training loss 값보다 작도록  코드를 수정하시오. 현재의 그래프는 최적 상태가 아닙니다."
      ]
    },
    {
      "cell_type": "code",
      "metadata": {
        "id": "_3uvk7IVeIZs",
        "colab_type": "code",
        "outputId": "8a2b7035-e2d5-4dbd-aa9c-f066b633a98e",
        "colab": {
          "base_uri": "https://localhost:8080/",
          "height": 1000
        }
      },
      "source": [
        "from keras.datasets import mnist\n",
        "from matplotlib import pyplot as plt\n",
        "plt.style.use('dark_background')\n",
        "from keras.models import Sequential\n",
        "from keras.layers import Dense, Flatten, Activation, Dropout\n",
        "from keras.utils import normalize, to_categorical\n",
        "\n",
        "(X_train, y_train), (X_test, y_test) = mnist.load_data()\n",
        "\n",
        "plt.imshow(X_train[0], cmap = plt.cm.binary)\n",
        "plt.show()\n",
        "\n",
        "X_train = normalize(X_train, axis=1)\n",
        "X_test = normalize(X_test, axis=1)\n",
        "y_train = to_categorical(y_train)\n",
        "y_test = to_categorical(y_test)\n",
        "\n",
        "model = Sequential()\n",
        "model.add(Flatten(input_shape=(28, 28)))\n",
        "model.add(Dense(128))\n",
        "model.add(Activation('relu'))\n",
        "model.add(Dropout(0.25))\n",
        "model.add(Dense(128))\n",
        "model.add(Activation('relu'))\n",
        "model.add(Dropout(0.5))\n",
        "model.add(Dense(10))\n",
        "model.add(Activation('softmax'))\n",
        "model.summary()\n",
        "\n",
        "model.compile(\n",
        "    loss='categorical_crossentropy',\n",
        "    optimizer='adam',\n",
        "    metrics=['accuracy']\n",
        ")\n",
        "history = model.fit(\n",
        "    X_train,\n",
        "    y_train,\n",
        "    epochs=10,\n",
        "    batch_size=32,\n",
        "    validation_split=0.1,\n",
        "    verbose = 1,\n",
        "    shuffle=True\n",
        ")\n",
        "\n",
        "loss = history.history['loss']\n",
        "val_loss = history.history['val_loss']\n",
        "epochs = range(1, len(loss) + 1)\n",
        "plt.plot(epochs, loss, 'y', label='Training loss')\n",
        "plt.plot(epochs, val_loss, 'r', label='Validation loss')\n",
        "plt.title('Training and validation loss')\n",
        "plt.xlabel('Epochs')\n",
        "plt.ylabel('Loss')\n",
        "plt.legend()\n",
        "plt.show()"
      ],
      "execution_count": 20,
      "outputs": [
        {
          "output_type": "display_data",
          "data": {
            "image/png": "[encoded data removed]",
            "text/plain": [
              "<Figure size 432x288 with 1 Axes>"
            ]
          },
          "metadata": {
            "tags": []
          }
        },
        {
          "output_type": "stream",
          "text": [
            "Model: \"sequential_5\"\n",
            "_________________________________________________________________\n",
            "Layer (type)                 Output Shape              Param #   \n",
            "=================================================================\n",
            "flatten_5 (Flatten)          (None, 784)               0         \n",
            "_________________________________________________________________\n",
            "dense_13 (Dense)             (None, 128)               100480    \n",
            "_________________________________________________________________\n",
            "activation_13 (Activation)   (None, 128)               0         \n",
            "_________________________________________________________________\n",
            "dropout_9 (Dropout)          (None, 128)               0         \n",
            "_________________________________________________________________\n",
            "dense_14 (Dense)             (None, 128)               16512     \n",
            "_________________________________________________________________\n",
            "activation_14 (Activation)   (None, 128)               0         \n",
            "_________________________________________________________________\n",
            "dropout_10 (Dropout)         (None, 128)               0         \n",
            "_________________________________________________________________\n",
            "dense_15 (Dense)             (None, 10)                1290      \n",
            "_________________________________________________________________\n",
            "activation_15 (Activation)   (None, 10)                0         \n",
            "=================================================================\n",
            "Total params: 118,282\n",
            "Trainable params: 118,282\n",
            "Non-trainable params: 0\n",
            "_________________________________________________________________\n",
            "Train on 54000 samples, validate on 6000 samples\n",
            "Epoch 1/10\n",
            "54000/54000 [==============================] - 8s 141us/step - loss: 0.4259 - accuracy: 0.8733 - val_loss: 0.1416 - val_accuracy: 0.9575\n",
            "Epoch 2/10\n",
            "54000/54000 [==============================] - 7s 134us/step - loss: 0.2077 - accuracy: 0.9404 - val_loss: 0.1036 - val_accuracy: 0.9703\n",
            "Epoch 3/10\n",
            "54000/54000 [==============================] - 6s 105us/step - loss: 0.1592 - accuracy: 0.9530 - val_loss: 0.0865 - val_accuracy: 0.9742\n",
            "Epoch 4/10\n",
            "54000/54000 [==============================] - 6s 106us/step - loss: 0.1359 - accuracy: 0.9591 - val_loss: 0.0819 - val_accuracy: 0.9752\n",
            "Epoch 5/10\n",
            "54000/54000 [==============================] - 6s 107us/step - loss: 0.1168 - accuracy: 0.9654 - val_loss: 0.0805 - val_accuracy: 0.9760\n",
            "Epoch 6/10\n",
            "54000/54000 [==============================] - 6s 107us/step - loss: 0.1040 - accuracy: 0.9685 - val_loss: 0.0737 - val_accuracy: 0.9780\n",
            "Epoch 7/10\n",
            "54000/54000 [==============================] - 6s 108us/step - loss: 0.0946 - accuracy: 0.9709 - val_loss: 0.0796 - val_accuracy: 0.9770\n",
            "Epoch 8/10\n",
            "54000/54000 [==============================] - 6s 108us/step - loss: 0.0864 - accuracy: 0.9733 - val_loss: 0.0723 - val_accuracy: 0.9777\n",
            "Epoch 9/10\n",
            "54000/54000 [==============================] - 6s 108us/step - loss: 0.0837 - accuracy: 0.9742 - val_loss: 0.0710 - val_accuracy: 0.9803\n",
            "Epoch 10/10\n",
            "54000/54000 [==============================] - 6s 109us/step - loss: 0.0773 - accuracy: 0.9752 - val_loss: 0.0742 - val_accuracy: 0.9795\n"
          ],
          "name": "stdout"
        },
        {
          "output_type": "display_data",
          "data": {
            "image/png": "[encoded data removed]",
            "text/plain": [
              "<Figure size 432x288 with 1 Axes>"
            ]
          },
          "metadata": {
            "tags": []
          }
        }
      ]
    },
    {
      "cell_type": "markdown",
      "metadata": {
        "id": "o176gKn3yL-O",
        "colab_type": "text"
      },
      "source": [
        "Q6. Mini-batch size & Learning Rate 튜닝"
      ]
    },
    {
      "cell_type": "code",
      "metadata": {
        "id": "achHRPhwHPF3",
        "colab_type": "code",
        "colab": {
          "base_uri": "https://localhost:8080/",
          "height": 1000
        },
        "outputId": "6ffe6f2c-c2d5-4662-99aa-6ca41daf7971"
      },
      "source": [
        "# mlp for the blobs problem with minibatch gradient descent with varied batch size\n",
        "# 아래의 코드에서 다음 두 개의 파라미터를 조합하여 최고의 모델링 성능을 내고 그 결과를 print()로 출력하십시오.\n",
        "# 튜닝할 파라미터 : batch_size & lr (각각 3가지의 옵션이 있으므로 두 파라미터를 조합할 수 있는 경우의 수는 모두 9가지)\n",
        "# 모델의 성능 평가 기준은 다음의 우선순위에 따라 결정하시오. \n",
        "# 1. Validation Loss가 최소, 2. Accuracy는 최고값에 가까울 것\n",
        "# 9번의 실험 후 최적이라고 생각되는 파라미터 값을 코드에 지정하고 셀을 다시 run하여 최종 결과를 출력하시오.\n",
        "%%time\n",
        "from sklearn.datasets import make_blobs\n",
        "from keras.layers import Dense\n",
        "from keras.models import Sequential\n",
        "from keras.optimizers import SGD\n",
        "from keras.utils import to_categorical\n",
        "from matplotlib import pyplot\n",
        "\n",
        "# prepare train and test dataset\n",
        "def prepare_data():\n",
        "\t# generate 2d classification dataset\n",
        "\tX, y = make_blobs(n_samples=1000, centers=3, n_features=2, cluster_std=2, random_state=2)\n",
        "\t# one hot encode output variable\n",
        "\ty = to_categorical(y)\n",
        "\t# split into train and test\n",
        "\tn_train = 500\n",
        "\ttrainX, testX = X[:n_train, :], X[n_train:, :]\n",
        "\ttrainy, testy = y[:n_train], y[n_train:]\n",
        "\treturn trainX, trainy, testX, testy\n",
        "\n",
        "# fit a model and plot learning curve\n",
        "def fit_model(trainX, trainy, testX, testy, n_batch):\n",
        "\t\n",
        "  # define model\n",
        "\tmodel = Sequential()\n",
        "\tmodel.add(Dense(50, input_dim=2, activation='relu', kernel_initializer='he_uniform'))\n",
        "\tmodel.add(Dense(3, activation='softmax'))\n",
        "\t\n",
        "  # lr의 값을  0.1, 0.01, 0.001 중에서 선택하여 이곳에 지정\n",
        "\topt = SGD(lr=0.001, momentum=0.9) \n",
        "\tmodel.compile(loss='categorical_crossentropy', optimizer=opt, metrics=['accuracy'])\n",
        "\t# fit model\n",
        "\thistory = model.fit(trainX, trainy, validation_data=(testX, testy), epochs=150, verbose=2, batch_size=n_batch)\n",
        "\tprint('accuracy = ', format(history.history['accuracy'][149],\".3f\"), ' ', 'validation loss = ', format(history.history['val_loss'][149],\".3f\"))\n",
        "  # plot learning curves\n",
        "\tpyplot.plot(history.history['accuracy'], label='train')\n",
        "\tpyplot.plot(history.history['val_loss'], label='test')\n",
        "\tpyplot.title('batch='+str(n_batch), pad=-40)\n",
        "\n",
        "\n",
        "\n",
        "# prepare dataset\n",
        "trainX, trainy, testX, testy = prepare_data()\n",
        "\n",
        "# batch_size의 값을   16, 32, 64 중에서 선택하여 이곳에 지정\n",
        "batch_size = 16\n",
        "\n",
        "fit_model(trainX, trainy, testX, testy, batch_size)\n",
        "# show learning curves\n",
        "pyplot.show()\n",
        "\n",
        "# 결과를 메모장에 적어놓고 lr과 batch_size를 바꿔가며 최적의 파라미터를 찾아가시오.\n",
        "# 최적의 lr과 batch_size를 선택하여 위의 코드에 적고 Run한 결과룰 출력하여 제출하시오. "
      ],
      "execution_count": 26,
      "outputs": [
        {
          "output_type": "stream",
          "text": [
            "Train on 500 samples, validate on 500 samples\n",
            "Epoch 1/150\n",
            " - 0s - loss: 2.0122 - accuracy: 0.4420 - val_loss: 1.7808 - val_accuracy: 0.4700\n",
            "Epoch 2/150\n",
            " - 0s - loss: 1.2537 - accuracy: 0.4640 - val_loss: 1.0139 - val_accuracy: 0.5080\n",
            "Epoch 3/150\n",
            " - 0s - loss: 1.0078 - accuracy: 0.5120 - val_loss: 0.8254 - val_accuracy: 0.5700\n",
            "Epoch 4/150\n",
            " - 0s - loss: 0.8347 - accuracy: 0.5880 - val_loss: 0.8194 - val_accuracy: 0.5560\n",
            "Epoch 5/150\n",
            " - 0s - loss: 0.7961 - accuracy: 0.6140 - val_loss: 0.7892 - val_accuracy: 0.6640\n",
            "Epoch 6/150\n",
            " - 0s - loss: 0.7991 - accuracy: 0.6220 - val_loss: 0.7292 - val_accuracy: 0.6920\n",
            "Epoch 7/150\n",
            " - 0s - loss: 0.7587 - accuracy: 0.6560 - val_loss: 0.6958 - val_accuracy: 0.7040\n",
            "Epoch 8/150\n",
            " - 0s - loss: 0.7424 - accuracy: 0.6560 - val_loss: 0.6957 - val_accuracy: 0.7020\n",
            "Epoch 9/150\n",
            " - 0s - loss: 0.7295 - accuracy: 0.6540 - val_loss: 0.6704 - val_accuracy: 0.7000\n",
            "Epoch 10/150\n",
            " - 0s - loss: 0.7183 - accuracy: 0.6540 - val_loss: 0.6727 - val_accuracy: 0.6860\n",
            "Epoch 11/150\n",
            " - 0s - loss: 0.7174 - accuracy: 0.6620 - val_loss: 0.6945 - val_accuracy: 0.7360\n",
            "Epoch 12/150\n",
            " - 0s - loss: 0.7122 - accuracy: 0.6680 - val_loss: 0.6666 - val_accuracy: 0.6820\n",
            "Epoch 13/150\n",
            " - 0s - loss: 0.7011 - accuracy: 0.6580 - val_loss: 0.6485 - val_accuracy: 0.7100\n",
            "Epoch 14/150\n",
            " - 0s - loss: 0.6890 - accuracy: 0.6660 - val_loss: 0.6399 - val_accuracy: 0.7020\n",
            "Epoch 15/150\n",
            " - 0s - loss: 0.6847 - accuracy: 0.6660 - val_loss: 0.6355 - val_accuracy: 0.7040\n",
            "Epoch 16/150\n",
            " - 0s - loss: 0.6856 - accuracy: 0.6680 - val_loss: 0.6335 - val_accuracy: 0.6960\n",
            "Epoch 17/150\n",
            " - 0s - loss: 0.6733 - accuracy: 0.6580 - val_loss: 0.6606 - val_accuracy: 0.7360\n",
            "Epoch 18/150\n",
            " - 0s - loss: 0.7003 - accuracy: 0.6660 - val_loss: 0.6265 - val_accuracy: 0.6980\n",
            "Epoch 19/150\n",
            " - 0s - loss: 0.6841 - accuracy: 0.6740 - val_loss: 0.6319 - val_accuracy: 0.6920\n",
            "Epoch 20/150\n",
            " - 0s - loss: 0.6910 - accuracy: 0.6620 - val_loss: 0.6538 - val_accuracy: 0.7580\n",
            "Epoch 21/150\n",
            " - 0s - loss: 0.6759 - accuracy: 0.6760 - val_loss: 0.6261 - val_accuracy: 0.6920\n",
            "Epoch 22/150\n",
            " - 0s - loss: 0.6641 - accuracy: 0.6680 - val_loss: 0.6151 - val_accuracy: 0.7180\n",
            "Epoch 23/150\n",
            " - 0s - loss: 0.6585 - accuracy: 0.6760 - val_loss: 0.6180 - val_accuracy: 0.7280\n",
            "Epoch 24/150\n",
            " - 0s - loss: 0.6599 - accuracy: 0.6700 - val_loss: 0.6150 - val_accuracy: 0.7020\n",
            "Epoch 25/150\n",
            " - 0s - loss: 0.6559 - accuracy: 0.6640 - val_loss: 0.6085 - val_accuracy: 0.7200\n",
            "Epoch 26/150\n",
            " - 0s - loss: 0.6505 - accuracy: 0.6700 - val_loss: 0.6132 - val_accuracy: 0.7320\n",
            "Epoch 27/150\n",
            " - 0s - loss: 0.6477 - accuracy: 0.6880 - val_loss: 0.6081 - val_accuracy: 0.7120\n",
            "Epoch 28/150\n",
            " - 0s - loss: 0.6505 - accuracy: 0.6700 - val_loss: 0.6023 - val_accuracy: 0.7160\n",
            "Epoch 29/150\n",
            " - 0s - loss: 0.6431 - accuracy: 0.6700 - val_loss: 0.6154 - val_accuracy: 0.7560\n",
            "Epoch 30/150\n",
            " - 0s - loss: 0.6417 - accuracy: 0.6960 - val_loss: 0.6126 - val_accuracy: 0.7040\n",
            "Epoch 31/150\n",
            " - 0s - loss: 0.6545 - accuracy: 0.6780 - val_loss: 0.6214 - val_accuracy: 0.7620\n",
            "Epoch 32/150\n",
            " - 0s - loss: 0.6476 - accuracy: 0.6960 - val_loss: 0.5993 - val_accuracy: 0.7220\n",
            "Epoch 33/150\n",
            " - 0s - loss: 0.6395 - accuracy: 0.6960 - val_loss: 0.5934 - val_accuracy: 0.7240\n",
            "Epoch 34/150\n",
            " - 0s - loss: 0.6334 - accuracy: 0.6760 - val_loss: 0.6119 - val_accuracy: 0.7600\n",
            "Epoch 35/150\n",
            " - 0s - loss: 0.6541 - accuracy: 0.6980 - val_loss: 0.5974 - val_accuracy: 0.7240\n",
            "Epoch 36/150\n",
            " - 0s - loss: 0.6357 - accuracy: 0.7020 - val_loss: 0.5889 - val_accuracy: 0.7240\n",
            "Epoch 37/150\n",
            " - 0s - loss: 0.6328 - accuracy: 0.6920 - val_loss: 0.5997 - val_accuracy: 0.7680\n",
            "Epoch 38/150\n",
            " - 0s - loss: 0.6283 - accuracy: 0.7080 - val_loss: 0.5886 - val_accuracy: 0.7280\n",
            "Epoch 39/150\n",
            " - 0s - loss: 0.6203 - accuracy: 0.7000 - val_loss: 0.5889 - val_accuracy: 0.7440\n",
            "Epoch 40/150\n",
            " - 0s - loss: 0.6191 - accuracy: 0.7000 - val_loss: 0.5828 - val_accuracy: 0.7260\n",
            "Epoch 41/150\n",
            " - 0s - loss: 0.6168 - accuracy: 0.7020 - val_loss: 0.5815 - val_accuracy: 0.7280\n",
            "Epoch 42/150\n",
            " - 0s - loss: 0.6140 - accuracy: 0.6980 - val_loss: 0.5864 - val_accuracy: 0.7540\n",
            "Epoch 43/150\n",
            " - 0s - loss: 0.6223 - accuracy: 0.7180 - val_loss: 0.5830 - val_accuracy: 0.7240\n",
            "Epoch 44/150\n",
            " - 0s - loss: 0.6127 - accuracy: 0.7120 - val_loss: 0.5796 - val_accuracy: 0.7500\n",
            "Epoch 45/150\n",
            " - 0s - loss: 0.6121 - accuracy: 0.7020 - val_loss: 0.5794 - val_accuracy: 0.7540\n",
            "Epoch 46/150\n",
            " - 0s - loss: 0.6083 - accuracy: 0.7040 - val_loss: 0.5749 - val_accuracy: 0.7360\n",
            "Epoch 47/150\n",
            " - 0s - loss: 0.6073 - accuracy: 0.7220 - val_loss: 0.5880 - val_accuracy: 0.7820\n",
            "Epoch 48/150\n",
            " - 0s - loss: 0.6080 - accuracy: 0.7260 - val_loss: 0.5761 - val_accuracy: 0.7220\n",
            "Epoch 49/150\n",
            " - 0s - loss: 0.6006 - accuracy: 0.7240 - val_loss: 0.5858 - val_accuracy: 0.7840\n",
            "Epoch 50/150\n",
            " - 0s - loss: 0.6045 - accuracy: 0.7220 - val_loss: 0.5707 - val_accuracy: 0.7400\n",
            "Epoch 51/150\n",
            " - 0s - loss: 0.6010 - accuracy: 0.7240 - val_loss: 0.5689 - val_accuracy: 0.7380\n",
            "Epoch 52/150\n",
            " - 0s - loss: 0.6027 - accuracy: 0.7240 - val_loss: 0.5780 - val_accuracy: 0.7820\n",
            "Epoch 53/150\n",
            " - 0s - loss: 0.5994 - accuracy: 0.7140 - val_loss: 0.5677 - val_accuracy: 0.7340\n",
            "Epoch 54/150\n",
            " - 0s - loss: 0.6088 - accuracy: 0.7240 - val_loss: 0.5752 - val_accuracy: 0.7240\n",
            "Epoch 55/150\n",
            " - 0s - loss: 0.6113 - accuracy: 0.7040 - val_loss: 0.5940 - val_accuracy: 0.8000\n",
            "Epoch 56/150\n",
            " - 0s - loss: 0.6014 - accuracy: 0.7400 - val_loss: 0.5642 - val_accuracy: 0.7420\n",
            "Epoch 57/150\n",
            " - 0s - loss: 0.5904 - accuracy: 0.7160 - val_loss: 0.5761 - val_accuracy: 0.7900\n",
            "Epoch 58/150\n",
            " - 0s - loss: 0.5950 - accuracy: 0.7480 - val_loss: 0.5735 - val_accuracy: 0.7300\n",
            "Epoch 59/150\n",
            " - 0s - loss: 0.6053 - accuracy: 0.7200 - val_loss: 0.5628 - val_accuracy: 0.7660\n",
            "Epoch 60/150\n",
            " - 0s - loss: 0.6009 - accuracy: 0.7200 - val_loss: 0.5671 - val_accuracy: 0.7920\n",
            "Epoch 61/150\n",
            " - 0s - loss: 0.5877 - accuracy: 0.7420 - val_loss: 0.5624 - val_accuracy: 0.7340\n",
            "Epoch 62/150\n",
            " - 0s - loss: 0.5873 - accuracy: 0.7200 - val_loss: 0.5758 - val_accuracy: 0.7980\n",
            "Epoch 63/150\n",
            " - 0s - loss: 0.5919 - accuracy: 0.7440 - val_loss: 0.5551 - val_accuracy: 0.7540\n",
            "Epoch 64/150\n",
            " - 0s - loss: 0.5857 - accuracy: 0.7200 - val_loss: 0.5594 - val_accuracy: 0.7840\n",
            "Epoch 65/150\n",
            " - 0s - loss: 0.5837 - accuracy: 0.7520 - val_loss: 0.5549 - val_accuracy: 0.7480\n",
            "Epoch 66/150\n",
            " - 0s - loss: 0.5838 - accuracy: 0.7420 - val_loss: 0.5600 - val_accuracy: 0.7920\n",
            "Epoch 67/150\n",
            " - 0s - loss: 0.5776 - accuracy: 0.7420 - val_loss: 0.5536 - val_accuracy: 0.7440\n",
            "Epoch 68/150\n",
            " - 0s - loss: 0.5901 - accuracy: 0.7320 - val_loss: 0.5519 - val_accuracy: 0.7500\n",
            "Epoch 69/150\n",
            " - 0s - loss: 0.5789 - accuracy: 0.7300 - val_loss: 0.5541 - val_accuracy: 0.7920\n",
            "Epoch 70/150\n",
            " - 0s - loss: 0.5762 - accuracy: 0.7440 - val_loss: 0.5481 - val_accuracy: 0.7640\n",
            "Epoch 71/150\n",
            " - 0s - loss: 0.5729 - accuracy: 0.7440 - val_loss: 0.5504 - val_accuracy: 0.7840\n",
            "Epoch 72/150\n",
            " - 0s - loss: 0.5759 - accuracy: 0.7360 - val_loss: 0.5456 - val_accuracy: 0.7640\n",
            "Epoch 73/150\n",
            " - 0s - loss: 0.5726 - accuracy: 0.7680 - val_loss: 0.5450 - val_accuracy: 0.7740\n",
            "Epoch 74/150\n",
            " - 0s - loss: 0.5750 - accuracy: 0.7380 - val_loss: 0.5541 - val_accuracy: 0.7960\n",
            "Epoch 75/150\n",
            " - 0s - loss: 0.5725 - accuracy: 0.7600 - val_loss: 0.5502 - val_accuracy: 0.7440\n",
            "Epoch 76/150\n",
            " - 0s - loss: 0.5854 - accuracy: 0.7200 - val_loss: 0.5749 - val_accuracy: 0.8100\n",
            "Epoch 77/150\n",
            " - 0s - loss: 0.5818 - accuracy: 0.7440 - val_loss: 0.5418 - val_accuracy: 0.7620\n",
            "Epoch 78/150\n",
            " - 0s - loss: 0.5695 - accuracy: 0.7540 - val_loss: 0.5416 - val_accuracy: 0.7840\n",
            "Epoch 79/150\n",
            " - 0s - loss: 0.5764 - accuracy: 0.7320 - val_loss: 0.5435 - val_accuracy: 0.7940\n",
            "Epoch 80/150\n",
            " - 0s - loss: 0.5758 - accuracy: 0.7600 - val_loss: 0.5415 - val_accuracy: 0.7480\n",
            "Epoch 81/150\n",
            " - 0s - loss: 0.5652 - accuracy: 0.7500 - val_loss: 0.5540 - val_accuracy: 0.8080\n",
            "Epoch 82/150\n",
            " - 0s - loss: 0.5651 - accuracy: 0.7540 - val_loss: 0.5417 - val_accuracy: 0.7540\n",
            "Epoch 83/150\n",
            " - 0s - loss: 0.5647 - accuracy: 0.7580 - val_loss: 0.5409 - val_accuracy: 0.7920\n",
            "Epoch 84/150\n",
            " - 0s - loss: 0.5593 - accuracy: 0.7640 - val_loss: 0.5347 - val_accuracy: 0.7840\n",
            "Epoch 85/150\n",
            " - 0s - loss: 0.5730 - accuracy: 0.7280 - val_loss: 0.5571 - val_accuracy: 0.8080\n",
            "Epoch 86/150\n",
            " - 0s - loss: 0.5657 - accuracy: 0.7600 - val_loss: 0.5357 - val_accuracy: 0.7600\n",
            "Epoch 87/150\n",
            " - 0s - loss: 0.5654 - accuracy: 0.7560 - val_loss: 0.5332 - val_accuracy: 0.7860\n",
            "Epoch 88/150\n",
            " - 0s - loss: 0.5538 - accuracy: 0.7520 - val_loss: 0.5305 - val_accuracy: 0.7900\n",
            "Epoch 89/150\n",
            " - 0s - loss: 0.5532 - accuracy: 0.7700 - val_loss: 0.5299 - val_accuracy: 0.7860\n",
            "Epoch 90/150\n",
            " - 0s - loss: 0.5536 - accuracy: 0.7480 - val_loss: 0.5320 - val_accuracy: 0.7900\n",
            "Epoch 91/150\n",
            " - 0s - loss: 0.5520 - accuracy: 0.7560 - val_loss: 0.5304 - val_accuracy: 0.7880\n",
            "Epoch 92/150\n",
            " - 0s - loss: 0.5498 - accuracy: 0.7640 - val_loss: 0.5274 - val_accuracy: 0.7800\n",
            "Epoch 93/150\n",
            " - 0s - loss: 0.5612 - accuracy: 0.7480 - val_loss: 0.5471 - val_accuracy: 0.8100\n",
            "Epoch 94/150\n",
            " - 0s - loss: 0.5500 - accuracy: 0.7660 - val_loss: 0.5270 - val_accuracy: 0.7780\n",
            "Epoch 95/150\n",
            " - 0s - loss: 0.5602 - accuracy: 0.7360 - val_loss: 0.5435 - val_accuracy: 0.8100\n",
            "Epoch 96/150\n",
            " - 0s - loss: 0.5602 - accuracy: 0.7360 - val_loss: 0.5240 - val_accuracy: 0.7980\n",
            "Epoch 97/150\n",
            " - 0s - loss: 0.5463 - accuracy: 0.7740 - val_loss: 0.5234 - val_accuracy: 0.8000\n",
            "Epoch 98/150\n",
            " - 0s - loss: 0.5451 - accuracy: 0.7700 - val_loss: 0.5268 - val_accuracy: 0.8020\n",
            "Epoch 99/150\n",
            " - 0s - loss: 0.5466 - accuracy: 0.7540 - val_loss: 0.5215 - val_accuracy: 0.8000\n",
            "Epoch 100/150\n",
            " - 0s - loss: 0.5471 - accuracy: 0.7660 - val_loss: 0.5207 - val_accuracy: 0.7940\n",
            "Epoch 101/150\n",
            " - 0s - loss: 0.5522 - accuracy: 0.7500 - val_loss: 0.5471 - val_accuracy: 0.8180\n",
            "Epoch 102/150\n",
            " - 0s - loss: 0.5565 - accuracy: 0.7680 - val_loss: 0.5228 - val_accuracy: 0.7800\n",
            "Epoch 103/150\n",
            " - 0s - loss: 0.5483 - accuracy: 0.7620 - val_loss: 0.5191 - val_accuracy: 0.7980\n",
            "Epoch 104/150\n",
            " - 0s - loss: 0.5416 - accuracy: 0.7700 - val_loss: 0.5182 - val_accuracy: 0.7980\n",
            "Epoch 105/150\n",
            " - 0s - loss: 0.5407 - accuracy: 0.7660 - val_loss: 0.5258 - val_accuracy: 0.8140\n",
            "Epoch 106/150\n",
            " - 0s - loss: 0.5698 - accuracy: 0.7460 - val_loss: 0.5211 - val_accuracy: 0.7720\n",
            "Epoch 107/150\n",
            " - 0s - loss: 0.5389 - accuracy: 0.7660 - val_loss: 0.5192 - val_accuracy: 0.8100\n",
            "Epoch 108/150\n",
            " - 0s - loss: 0.5348 - accuracy: 0.7600 - val_loss: 0.5142 - val_accuracy: 0.7960\n",
            "Epoch 109/150\n",
            " - 0s - loss: 0.5367 - accuracy: 0.7680 - val_loss: 0.5167 - val_accuracy: 0.8100\n",
            "Epoch 110/150\n",
            " - 0s - loss: 0.5346 - accuracy: 0.7700 - val_loss: 0.5152 - val_accuracy: 0.8080\n",
            "Epoch 111/150\n",
            " - 0s - loss: 0.5454 - accuracy: 0.7560 - val_loss: 0.5136 - val_accuracy: 0.8060\n",
            "Epoch 112/150\n",
            " - 0s - loss: 0.5324 - accuracy: 0.7720 - val_loss: 0.5102 - val_accuracy: 0.8040\n",
            "Epoch 113/150\n",
            " - 0s - loss: 0.5317 - accuracy: 0.7640 - val_loss: 0.5132 - val_accuracy: 0.8080\n",
            "Epoch 114/150\n",
            " - 0s - loss: 0.5308 - accuracy: 0.7600 - val_loss: 0.5103 - val_accuracy: 0.7900\n",
            "Epoch 115/150\n",
            " - 0s - loss: 0.5319 - accuracy: 0.7620 - val_loss: 0.5219 - val_accuracy: 0.8160\n",
            "Epoch 116/150\n",
            " - 0s - loss: 0.5296 - accuracy: 0.7660 - val_loss: 0.5090 - val_accuracy: 0.7900\n",
            "Epoch 117/150\n",
            " - 0s - loss: 0.5340 - accuracy: 0.7600 - val_loss: 0.5069 - val_accuracy: 0.8040\n",
            "Epoch 118/150\n",
            " - 0s - loss: 0.5341 - accuracy: 0.7520 - val_loss: 0.5181 - val_accuracy: 0.8160\n",
            "Epoch 119/150\n",
            " - 0s - loss: 0.5312 - accuracy: 0.7760 - val_loss: 0.5051 - val_accuracy: 0.8060\n",
            "Epoch 120/150\n",
            " - 0s - loss: 0.5300 - accuracy: 0.7660 - val_loss: 0.5189 - val_accuracy: 0.8200\n",
            "Epoch 121/150\n",
            " - 0s - loss: 0.5306 - accuracy: 0.7740 - val_loss: 0.5039 - val_accuracy: 0.8100\n",
            "Epoch 122/150\n",
            " - 0s - loss: 0.5221 - accuracy: 0.7760 - val_loss: 0.5074 - val_accuracy: 0.8120\n",
            "Epoch 123/150\n",
            " - 0s - loss: 0.5235 - accuracy: 0.7700 - val_loss: 0.5021 - val_accuracy: 0.8060\n",
            "Epoch 124/150\n",
            " - 0s - loss: 0.5235 - accuracy: 0.7740 - val_loss: 0.5018 - val_accuracy: 0.8060\n",
            "Epoch 125/150\n",
            " - 0s - loss: 0.5279 - accuracy: 0.7560 - val_loss: 0.5068 - val_accuracy: 0.8140\n",
            "Epoch 126/150\n",
            " - 0s - loss: 0.5182 - accuracy: 0.7660 - val_loss: 0.5005 - val_accuracy: 0.8100\n",
            "Epoch 127/150\n",
            " - 0s - loss: 0.5230 - accuracy: 0.7720 - val_loss: 0.5043 - val_accuracy: 0.8120\n",
            "Epoch 128/150\n",
            " - 0s - loss: 0.5247 - accuracy: 0.7720 - val_loss: 0.5015 - val_accuracy: 0.8140\n",
            "Epoch 129/150\n",
            " - 0s - loss: 0.5186 - accuracy: 0.7760 - val_loss: 0.5025 - val_accuracy: 0.8120\n",
            "Epoch 130/150\n",
            " - 0s - loss: 0.5182 - accuracy: 0.7680 - val_loss: 0.4977 - val_accuracy: 0.8120\n",
            "Epoch 131/150\n",
            " - 0s - loss: 0.5189 - accuracy: 0.7800 - val_loss: 0.4969 - val_accuracy: 0.8060\n",
            "Epoch 132/150\n",
            " - 0s - loss: 0.5187 - accuracy: 0.7680 - val_loss: 0.5008 - val_accuracy: 0.8140\n",
            "Epoch 133/150\n",
            " - 0s - loss: 0.5176 - accuracy: 0.7640 - val_loss: 0.4959 - val_accuracy: 0.8140\n",
            "Epoch 134/150\n",
            " - 0s - loss: 0.5209 - accuracy: 0.7760 - val_loss: 0.4963 - val_accuracy: 0.8080\n",
            "Epoch 135/150\n",
            " - 0s - loss: 0.5268 - accuracy: 0.7600 - val_loss: 0.5044 - val_accuracy: 0.8220\n",
            "Epoch 136/150\n",
            " - 0s - loss: 0.5136 - accuracy: 0.7660 - val_loss: 0.4941 - val_accuracy: 0.8080\n",
            "Epoch 137/150\n",
            " - 0s - loss: 0.5134 - accuracy: 0.7760 - val_loss: 0.5011 - val_accuracy: 0.8200\n",
            "Epoch 138/150\n",
            " - 0s - loss: 0.5162 - accuracy: 0.7780 - val_loss: 0.4957 - val_accuracy: 0.7980\n",
            "Epoch 139/150\n",
            " - 0s - loss: 0.5230 - accuracy: 0.7680 - val_loss: 0.4949 - val_accuracy: 0.8160\n",
            "Epoch 140/150\n",
            " - 0s - loss: 0.5107 - accuracy: 0.7780 - val_loss: 0.4931 - val_accuracy: 0.8140\n",
            "Epoch 141/150\n",
            " - 0s - loss: 0.5109 - accuracy: 0.7680 - val_loss: 0.4904 - val_accuracy: 0.8120\n",
            "Epoch 142/150\n",
            " - 0s - loss: 0.5120 - accuracy: 0.7720 - val_loss: 0.4898 - val_accuracy: 0.8200\n",
            "Epoch 143/150\n",
            " - 0s - loss: 0.5186 - accuracy: 0.7720 - val_loss: 0.4974 - val_accuracy: 0.8220\n",
            "Epoch 144/150\n",
            " - 0s - loss: 0.5049 - accuracy: 0.7720 - val_loss: 0.4884 - val_accuracy: 0.8180\n",
            "Epoch 145/150\n",
            " - 0s - loss: 0.5069 - accuracy: 0.7800 - val_loss: 0.4926 - val_accuracy: 0.8220\n",
            "Epoch 146/150\n",
            " - 0s - loss: 0.5076 - accuracy: 0.7800 - val_loss: 0.4887 - val_accuracy: 0.8160\n",
            "Epoch 147/150\n",
            " - 0s - loss: 0.5056 - accuracy: 0.7740 - val_loss: 0.4886 - val_accuracy: 0.8140\n",
            "Epoch 148/150\n",
            " - 0s - loss: 0.5037 - accuracy: 0.7820 - val_loss: 0.4879 - val_accuracy: 0.8180\n",
            "Epoch 149/150\n",
            " - 0s - loss: 0.5032 - accuracy: 0.7760 - val_loss: 0.4852 - val_accuracy: 0.8180\n",
            "Epoch 150/150\n",
            " - 0s - loss: 0.5058 - accuracy: 0.7860 - val_loss: 0.4890 - val_accuracy: 0.8200\n",
            "accuracy =  0.786   validation loss =  0.489\n"
          ],
          "name": "stdout"
        },
        {
          "output_type": "display_data",
          "data": {
            "image/png": "[encoded data removed]",
            "text/plain": [
              "<Figure size 432x288 with 1 Axes>"
            ]
          },
          "metadata": {
            "tags": []
          }
        },
        {
          "output_type": "stream",
          "text": [
            "CPU times: user 3.68 s, sys: 185 ms, total: 3.86 s\n",
            "Wall time: 3.58 s\n"
          ],
          "name": "stdout"
        }
      ]
    },
    {
      "cell_type": "markdown",
      "metadata": {
        "id": "U7B16qvfgODH",
        "colab_type": "text"
      },
      "source": [
        "Q7 . RNN 문장 생성기\n"
      ]
    },
    {
      "cell_type": "code",
      "metadata": {
        "id": "_2DqrQtH9Itp",
        "colab_type": "code",
        "colab": {
          "base_uri": "https://localhost:8080/",
          "height": 1000
        },
        "outputId": "9ad730ef-99f6-4049-c5e1-b24d176e05fe"
      },
      "source": [
        "# 다음의 코드를 완성하시오\n",
        "from tensorflow.keras.preprocessing.text import Tokenizer\n",
        "from tensorflow.keras.preprocessing.sequence import pad_sequences\n",
        "import numpy as np\n",
        "from tensorflow.keras.utils import to_categorical\n",
        "\n",
        "text=\"\"\"특히 최근 수도권에서는 교회 소모임 참석자에 이어 이들 가족과 지인으로 번지는 2차 감염 사례가 증가하고 있습니다. 중앙재난안전대책본부는 오늘까지 수도권 교회와 관련한 코로나19 확진자는 총 63명이라고 밝혔으며  2차 감염자는 33명 이라고 전했습니다. \"\"\"\n",
        "\n",
        "\n",
        "t = Tokenizer()\n",
        "t.fit_on_texts([text])\n",
        "vocab_size = len(t.word_index) + 1\n",
        "print('단어 집합의 크기 : %d' % vocab_size)\n",
        "\n",
        "\n",
        "print(t.word_index)\n",
        "\n",
        "sequences = list()\n",
        "for line in text.split('\\n'): \n",
        "    encoded = t.texts_to_sequences([line])[0]\n",
        "    for i in range(1, len(encoded)):\n",
        "        sequence = encoded[:i+1]\n",
        "        sequences.append(sequence)\n",
        "\n",
        "print('학습에 사용할 샘플의 개수: %d' % len(sequences))\n",
        "\n",
        "\n",
        "max_len=max(len(l) for l in sequences) \n",
        "\n",
        "sequences = pad_sequences(sequences, maxlen=max_len, padding='pre')\n",
        "\n",
        "sequences = np.array(sequences)\n",
        "X = sequences[:,:-1]\n",
        "y = sequences[:,-1]\n",
        "\n",
        "\n",
        "from tensorflow.keras.models import Sequential\n",
        "from tensorflow.keras.layers import Embedding, Dense, SimpleRNN\n",
        "\n",
        "model = Sequential()\n",
        "model.add(Embedding(vocab_size, 10, input_length=max_len-1))  \n",
        "model.add(SimpleRNN(32))\n",
        "model.add(Dense(vocab_size, activation='softmax'))\n",
        "model.compile(loss='sparse_categorical_crossentropy', optimizer='adam', metrics=['accuracy'])\n",
        "model.fit(X, y, epochs=120, verbose=2)\n",
        "\n",
        "# 이 블록에서 yoou_code_here 부분을 완성하시오\n",
        "def sentence_generation(model, t, current_word, n): # model = 모델, t = 토크나이저, current_word = 현재 단어, n = 반복할 횟수\n",
        "    init_word = current_word # 처음 들어온 단어도 마지막에 같이 출력하기위해 저장\n",
        "    sentence = ''\n",
        "    for _ in range(n): # n번 반복\n",
        "        encoded = t.texts_to_sequences([current_word])[0] # 현재 단어에 대한 정수 인코딩\n",
        "        encoded = pad_sequences([encoded], maxlen=30, padding='pre') # 데이터에 대한 패딩\n",
        "        result = np.argmax(model.predict(encoded), axis=-1)\n",
        "        for word, index in t.word_index.items(): \n",
        "            if index == result: # 만약 예측한 단어의 인덱스 값이 동일한 단어가 있다면\n",
        "                break # 해당 단어가 예측 단어이므로 break\n",
        "        current_word = word # 현재 단어 + ' ' + 예측한 단어를 current_word로 저장\n",
        "        sentence = sentence + ' '+ word # 예측한 단어를 sentence에 append\n",
        "     \n",
        "    sentence = init_word + sentence # 초기의 텍스트와 for loop에서 생성된 텍스트를 concatenate\n",
        "    return sentence\n",
        "\n",
        "print(sentence_generation(model, t, '특히', 10))"
      ],
      "execution_count": 11,
      "outputs": [
        {
          "output_type": "stream",
          "text": [
            "단어 집합의 크기 : 31\n",
            "{'2차': 1, '특히': 2, '최근': 3, '수도권에서는': 4, '교회': 5, '소모임': 6, '참석자에': 7, '이어': 8, '이들': 9, '가족과': 10, '지인으로': 11, '번지는': 12, '감염': 13, '사례가': 14, '증가하고': 15, '있습니다': 16, '중앙재난안전대책본부는': 17, '오늘까지': 18, '수도권': 19, '교회와': 20, '관련한': 21, '코로나19': 22, '확진자는': 23, '총': 24, '63명이라고': 25, '밝혔으며': 26, '감염자는': 27, '33명': 28, '이라고': 29, '전했습니다': 30}\n",
            "학습에 사용할 샘플의 개수: 30\n",
            "Epoch 1/120\n",
            "1/1 - 0s - loss: 3.4274 - accuracy: 0.0333\n",
            "Epoch 2/120\n",
            "1/1 - 0s - loss: 3.4073 - accuracy: 0.0000e+00\n",
            "Epoch 3/120\n",
            "1/1 - 0s - loss: 3.3881 - accuracy: 0.0333\n",
            "Epoch 4/120\n",
            "1/1 - 0s - loss: 3.3697 - accuracy: 0.1333\n",
            "Epoch 5/120\n",
            "1/1 - 0s - loss: 3.3515 - accuracy: 0.1667\n",
            "Epoch 6/120\n",
            "1/1 - 0s - loss: 3.3328 - accuracy: 0.1667\n",
            "Epoch 7/120\n",
            "1/1 - 0s - loss: 3.3131 - accuracy: 0.2000\n",
            "Epoch 8/120\n",
            "1/1 - 0s - loss: 3.2925 - accuracy: 0.1667\n",
            "Epoch 9/120\n",
            "1/1 - 0s - loss: 3.2715 - accuracy: 0.1667\n",
            "Epoch 10/120\n",
            "1/1 - 0s - loss: 3.2506 - accuracy: 0.1667\n",
            "Epoch 11/120\n",
            "1/1 - 0s - loss: 3.2300 - accuracy: 0.1667\n",
            "Epoch 12/120\n",
            "1/1 - 0s - loss: 3.2096 - accuracy: 0.1667\n",
            "Epoch 13/120\n",
            "1/1 - 0s - loss: 3.1887 - accuracy: 0.1667\n",
            "Epoch 14/120\n",
            "1/1 - 0s - loss: 3.1672 - accuracy: 0.1667\n",
            "Epoch 15/120\n",
            "1/1 - 0s - loss: 3.1448 - accuracy: 0.1667\n",
            "Epoch 16/120\n",
            "1/1 - 0s - loss: 3.1213 - accuracy: 0.1667\n",
            "Epoch 17/120\n",
            "1/1 - 0s - loss: 3.0966 - accuracy: 0.2333\n",
            "Epoch 18/120\n",
            "1/1 - 0s - loss: 3.0703 - accuracy: 0.2667\n",
            "Epoch 19/120\n",
            "1/1 - 0s - loss: 3.0432 - accuracy: 0.2667\n",
            "Epoch 20/120\n",
            "1/1 - 0s - loss: 3.0173 - accuracy: 0.2667\n",
            "Epoch 21/120\n",
            "1/1 - 0s - loss: 2.9948 - accuracy: 0.2333\n",
            "Epoch 22/120\n",
            "1/1 - 0s - loss: 2.9741 - accuracy: 0.3000\n",
            "Epoch 23/120\n",
            "1/1 - 0s - loss: 2.9518 - accuracy: 0.3000\n",
            "Epoch 24/120\n",
            "1/1 - 0s - loss: 2.9267 - accuracy: 0.3667\n",
            "Epoch 25/120\n",
            "1/1 - 0s - loss: 2.9010 - accuracy: 0.4000\n",
            "Epoch 26/120\n",
            "1/1 - 0s - loss: 2.8772 - accuracy: 0.4000\n",
            "Epoch 27/120\n",
            "1/1 - 0s - loss: 2.8556 - accuracy: 0.4000\n",
            "Epoch 28/120\n",
            "1/1 - 0s - loss: 2.8332 - accuracy: 0.4000\n",
            "Epoch 29/120\n",
            "1/1 - 0s - loss: 2.8069 - accuracy: 0.4000\n",
            "Epoch 30/120\n",
            "1/1 - 0s - loss: 2.7794 - accuracy: 0.4000\n",
            "Epoch 31/120\n",
            "1/1 - 0s - loss: 2.7564 - accuracy: 0.4000\n",
            "Epoch 32/120\n",
            "1/1 - 0s - loss: 2.7333 - accuracy: 0.4000\n",
            "Epoch 33/120\n",
            "1/1 - 0s - loss: 2.7043 - accuracy: 0.4333\n",
            "Epoch 34/120\n",
            "1/1 - 0s - loss: 2.6834 - accuracy: 0.4667\n",
            "Epoch 35/120\n",
            "1/1 - 0s - loss: 2.6556 - accuracy: 0.4667\n",
            "Epoch 36/120\n",
            "1/1 - 0s - loss: 2.6335 - accuracy: 0.4333\n",
            "Epoch 37/120\n",
            "1/1 - 0s - loss: 2.6070 - accuracy: 0.4667\n",
            "Epoch 38/120\n",
            "1/1 - 0s - loss: 2.5835 - accuracy: 0.4667\n",
            "Epoch 39/120\n",
            "1/1 - 0s - loss: 2.5548 - accuracy: 0.4667\n",
            "Epoch 40/120\n",
            "1/1 - 0s - loss: 2.5334 - accuracy: 0.4667\n",
            "Epoch 41/120\n",
            "1/1 - 0s - loss: 2.5058 - accuracy: 0.4667\n",
            "Epoch 42/120\n",
            "1/1 - 0s - loss: 2.4821 - accuracy: 0.4667\n",
            "Epoch 43/120\n",
            "1/1 - 0s - loss: 2.4628 - accuracy: 0.4667\n",
            "Epoch 44/120\n",
            "1/1 - 0s - loss: 2.4356 - accuracy: 0.4667\n",
            "Epoch 45/120\n",
            "1/1 - 0s - loss: 2.4353 - accuracy: 0.5000\n",
            "Epoch 46/120\n",
            "1/1 - 0s - loss: 2.4193 - accuracy: 0.5000\n",
            "Epoch 47/120\n",
            "1/1 - 0s - loss: 2.4049 - accuracy: 0.5000\n",
            "Epoch 48/120\n",
            "1/1 - 0s - loss: 2.3569 - accuracy: 0.5000\n",
            "Epoch 49/120\n",
            "1/1 - 0s - loss: 2.3423 - accuracy: 0.5333\n",
            "Epoch 50/120\n",
            "1/1 - 0s - loss: 2.3288 - accuracy: 0.5333\n",
            "Epoch 51/120\n",
            "1/1 - 0s - loss: 2.2930 - accuracy: 0.5000\n",
            "Epoch 52/120\n",
            "1/1 - 0s - loss: 2.2764 - accuracy: 0.5333\n",
            "Epoch 53/120\n",
            "1/1 - 0s - loss: 2.2615 - accuracy: 0.5333\n",
            "Epoch 54/120\n",
            "1/1 - 0s - loss: 2.2393 - accuracy: 0.5333\n",
            "Epoch 55/120\n",
            "1/1 - 0s - loss: 2.2151 - accuracy: 0.5000\n",
            "Epoch 56/120\n",
            "1/1 - 0s - loss: 2.1937 - accuracy: 0.5667\n",
            "Epoch 57/120\n",
            "1/1 - 0s - loss: 2.1721 - accuracy: 0.5667\n",
            "Epoch 58/120\n",
            "1/1 - 0s - loss: 2.1541 - accuracy: 0.5333\n",
            "Epoch 59/120\n",
            "1/1 - 0s - loss: 2.1350 - accuracy: 0.5667\n",
            "Epoch 60/120\n",
            "1/1 - 0s - loss: 2.1105 - accuracy: 0.5333\n",
            "Epoch 61/120\n",
            "1/1 - 0s - loss: 2.0903 - accuracy: 0.5667\n",
            "Epoch 62/120\n",
            "1/1 - 0s - loss: 2.0733 - accuracy: 0.6000\n",
            "Epoch 63/120\n",
            "1/1 - 0s - loss: 2.0529 - accuracy: 0.6333\n",
            "Epoch 64/120\n",
            "1/1 - 0s - loss: 2.0297 - accuracy: 0.6333\n",
            "Epoch 65/120\n",
            "1/1 - 0s - loss: 2.0108 - accuracy: 0.6000\n",
            "Epoch 66/120\n",
            "1/1 - 0s - loss: 1.9930 - accuracy: 0.6000\n",
            "Epoch 67/120\n",
            "1/1 - 0s - loss: 1.9697 - accuracy: 0.6333\n",
            "Epoch 68/120\n",
            "1/1 - 0s - loss: 1.9504 - accuracy: 0.6333\n",
            "Epoch 69/120\n",
            "1/1 - 0s - loss: 1.9324 - accuracy: 0.6667\n",
            "Epoch 70/120\n",
            "1/1 - 0s - loss: 1.9102 - accuracy: 0.6667\n",
            "Epoch 71/120\n",
            "1/1 - 0s - loss: 1.8912 - accuracy: 0.7000\n",
            "Epoch 72/120\n",
            "1/1 - 0s - loss: 1.8727 - accuracy: 0.7000\n",
            "Epoch 73/120\n",
            "1/1 - 0s - loss: 1.8517 - accuracy: 0.7000\n",
            "Epoch 74/120\n",
            "1/1 - 0s - loss: 1.8350 - accuracy: 0.7000\n",
            "Epoch 75/120\n",
            "1/1 - 0s - loss: 1.8256 - accuracy: 0.7333\n",
            "Epoch 76/120\n",
            "1/1 - 0s - loss: 1.8492 - accuracy: 0.7000\n",
            "Epoch 77/120\n",
            "1/1 - 0s - loss: 1.7924 - accuracy: 0.7000\n",
            "Epoch 78/120\n",
            "1/1 - 0s - loss: 1.8080 - accuracy: 0.7000\n",
            "Epoch 79/120\n",
            "1/1 - 0s - loss: 1.7627 - accuracy: 0.7333\n",
            "Epoch 80/120\n",
            "1/1 - 0s - loss: 1.7587 - accuracy: 0.7333\n",
            "Epoch 81/120\n",
            "1/1 - 0s - loss: 1.7241 - accuracy: 0.7000\n",
            "Epoch 82/120\n",
            "1/1 - 0s - loss: 1.7145 - accuracy: 0.7333\n",
            "Epoch 83/120\n",
            "1/1 - 0s - loss: 1.6988 - accuracy: 0.8000\n",
            "Epoch 84/120\n",
            "1/1 - 0s - loss: 1.6763 - accuracy: 0.7667\n",
            "Epoch 85/120\n",
            "1/1 - 0s - loss: 1.6649 - accuracy: 0.7333\n",
            "Epoch 86/120\n",
            "1/1 - 0s - loss: 1.6479 - accuracy: 0.7333\n",
            "Epoch 87/120\n",
            "1/1 - 0s - loss: 1.6264 - accuracy: 0.7333\n",
            "Epoch 88/120\n",
            "1/1 - 0s - loss: 1.6129 - accuracy: 0.7333\n",
            "Epoch 89/120\n",
            "1/1 - 0s - loss: 1.5995 - accuracy: 0.7667\n",
            "Epoch 90/120\n",
            "1/1 - 0s - loss: 1.5788 - accuracy: 0.8000\n",
            "Epoch 91/120\n",
            "1/1 - 0s - loss: 1.5622 - accuracy: 0.7667\n",
            "Epoch 92/120\n",
            "1/1 - 0s - loss: 1.5505 - accuracy: 0.7667\n",
            "Epoch 93/120\n",
            "1/1 - 0s - loss: 1.5320 - accuracy: 0.7667\n",
            "Epoch 94/120\n",
            "1/1 - 0s - loss: 1.5155 - accuracy: 0.8000\n",
            "Epoch 95/120\n",
            "1/1 - 0s - loss: 1.5029 - accuracy: 0.8000\n",
            "Epoch 96/120\n",
            "1/1 - 0s - loss: 1.4848 - accuracy: 0.8000\n",
            "Epoch 97/120\n",
            "1/1 - 0s - loss: 1.4705 - accuracy: 0.7667\n",
            "Epoch 98/120\n",
            "1/1 - 0s - loss: 1.4569 - accuracy: 0.7667\n",
            "Epoch 99/120\n",
            "1/1 - 0s - loss: 1.4382 - accuracy: 0.8333\n",
            "Epoch 100/120\n",
            "1/1 - 0s - loss: 1.4267 - accuracy: 0.8333\n",
            "Epoch 101/120\n",
            "1/1 - 0s - loss: 1.4094 - accuracy: 0.8333\n",
            "Epoch 102/120\n",
            "1/1 - 0s - loss: 1.3955 - accuracy: 0.8667\n",
            "Epoch 103/120\n",
            "1/1 - 0s - loss: 1.3812 - accuracy: 0.8667\n",
            "Epoch 104/120\n",
            "1/1 - 0s - loss: 1.3650 - accuracy: 0.9000\n",
            "Epoch 105/120\n",
            "1/1 - 0s - loss: 1.3522 - accuracy: 0.9000\n",
            "Epoch 106/120\n",
            "1/1 - 0s - loss: 1.3356 - accuracy: 0.9000\n",
            "Epoch 107/120\n",
            "1/1 - 0s - loss: 1.3235 - accuracy: 0.9333\n",
            "Epoch 108/120\n",
            "1/1 - 0s - loss: 1.3079 - accuracy: 0.9333\n",
            "Epoch 109/120\n",
            "1/1 - 0s - loss: 1.2941 - accuracy: 0.9667\n",
            "Epoch 110/120\n",
            "1/1 - 0s - loss: 1.2809 - accuracy: 0.9333\n",
            "Epoch 111/120\n",
            "1/1 - 0s - loss: 1.2666 - accuracy: 0.9667\n",
            "Epoch 112/120\n",
            "1/1 - 0s - loss: 1.2528 - accuracy: 0.9333\n",
            "Epoch 113/120\n",
            "1/1 - 0s - loss: 1.2393 - accuracy: 0.9333\n",
            "Epoch 114/120\n",
            "1/1 - 0s - loss: 1.2275 - accuracy: 0.9667\n",
            "Epoch 115/120\n",
            "1/1 - 0s - loss: 1.2117 - accuracy: 0.9667\n",
            "Epoch 116/120\n",
            "1/1 - 0s - loss: 1.1988 - accuracy: 0.9333\n",
            "Epoch 117/120\n",
            "1/1 - 0s - loss: 1.1876 - accuracy: 0.9667\n",
            "Epoch 118/120\n",
            "1/1 - 0s - loss: 1.1728 - accuracy: 0.9667\n",
            "Epoch 119/120\n",
            "1/1 - 0s - loss: 1.1613 - accuracy: 0.9333\n",
            "Epoch 120/120\n",
            "1/1 - 0s - loss: 1.1577 - accuracy: 0.9667\n",
            "특히 교회 교회 교회 교회 교회 교회 교회 교회 교회 교회\n"
          ],
          "name": "stdout"
        }
      ]
    },
    {
      "cell_type": "markdown",
      "metadata": {
        "id": "Q_ZqqZcvN1PQ",
        "colab_type": "text"
      },
      "source": [
        "## 20년1학기-기말고사-yourname.ipynb로 다운로드한 후 제출하십시오.\n",
        "수고하였습니다!"
      ]
    }
  ]
}