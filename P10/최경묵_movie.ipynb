{
 "cells": [
  {
   "cell_type": "code",
   "execution_count": 1,
   "metadata": {
    "scrolled": true
   },
   "outputs": [
    {
     "name": "stdout",
     "output_type": "stream",
     "text": [
      "Collecting pip\n",
      "\u001b[?25l  Downloading https://files.pythonhosted.org/packages/43/84/23ed6a1796480a6f1a2d38f2802901d078266bda38388954d01d3f2e821d/pip-20.1.1-py2.py3-none-any.whl (1.5MB)\n",
      "\u001b[K     |████████████████████████████████| 1.5MB 10.6MB/s eta 0:00:01\n",
      "\u001b[?25hInstalling collected packages: pip\n",
      "  Found existing installation: pip 19.1.1\n",
      "    Uninstalling pip-19.1.1:\n",
      "      Successfully uninstalled pip-19.1.1\n",
      "Successfully installed pip-20.1.1\n",
      "Requirement already satisfied: lxml in /opt/conda/envs/Python36/lib/python3.6/site-packages (4.3.1)\n",
      "Collecting utils\n",
      "  Downloading utils-1.0.1-py2.py3-none-any.whl (21 kB)\n",
      "Installing collected packages: utils\n",
      "Successfully installed utils-1.0.1\n",
      "Collecting paramiko\n",
      "  Downloading paramiko-2.7.1-py2.py3-none-any.whl (206 kB)\n",
      "\u001b[K     |████████████████████████████████| 206 kB 13.6 MB/s eta 0:00:01\n",
      "\u001b[?25hCollecting pynacl>=1.0.1\n",
      "  Downloading PyNaCl-1.4.0-cp35-abi3-manylinux1_x86_64.whl (961 kB)\n",
      "\u001b[K     |████████████████████████████████| 961 kB 21.4 MB/s eta 0:00:01\n",
      "\u001b[?25hCollecting bcrypt>=3.1.3\n",
      "  Downloading bcrypt-3.1.7-cp34-abi3-manylinux1_x86_64.whl (56 kB)\n",
      "\u001b[K     |████████████████████████████████| 56 kB 3.9 MB/s  eta 0:00:01\n",
      "\u001b[?25hRequirement already satisfied: cryptography>=2.5 in /opt/conda/envs/Python36/lib/python3.6/site-packages (from paramiko) (2.5)\n",
      "Requirement already satisfied: cffi>=1.4.1 in /opt/conda/envs/Python36/lib/python3.6/site-packages (from pynacl>=1.0.1->paramiko) (1.11.5)\n",
      "Requirement already satisfied: six in /opt/conda/envs/Python36/lib/python3.6/site-packages (from pynacl>=1.0.1->paramiko) (1.12.0)\n",
      "Requirement already satisfied: asn1crypto>=0.21.0 in /opt/conda/envs/Python36/lib/python3.6/site-packages (from cryptography>=2.5->paramiko) (0.24.0)\n",
      "Requirement already satisfied: pycparser in /opt/conda/envs/Python36/lib/python3.6/site-packages (from cffi>=1.4.1->pynacl>=1.0.1->paramiko) (2.19)\n",
      "Installing collected packages: pynacl, bcrypt, paramiko\n",
      "Successfully installed bcrypt-3.1.7 paramiko-2.7.1 pynacl-1.4.0\n",
      "Requirement already satisfied: nltk in /opt/conda/envs/Python36/lib/python3.6/site-packages (3.4)\n",
      "Requirement already satisfied: six in /opt/conda/envs/Python36/lib/python3.6/site-packages (from nltk) (1.12.0)\n",
      "Requirement already satisfied: singledispatch in /opt/conda/envs/Python36/lib/python3.6/site-packages (from nltk) (3.4.0.3)\n"
     ]
    }
   ],
   "source": [
    "! pip install --upgrade pip\n",
    "! pip install lxml\n",
    "! pip install utils\n",
    "! pip install paramiko\n",
    "! pip install nltk"
   ]
  },
  {
   "cell_type": "code",
   "execution_count": 2,
   "metadata": {},
   "outputs": [
    {
     "name": "stdout",
     "output_type": "stream",
     "text": [
      "Collecting konlpy\n",
      "  Downloading konlpy-0.5.2-py2.py3-none-any.whl (19.4 MB)\n",
      "\u001b[K     |████████████████████████████████| 19.4 MB 350 kB/s eta 0:00:01\n",
      "\u001b[?25hRequirement already satisfied: lxml>=4.1.0 in /opt/conda/envs/Python36/lib/python3.6/site-packages (from konlpy) (4.3.1)\n",
      "Collecting tweepy>=3.7.0\n",
      "  Downloading tweepy-3.8.0-py2.py3-none-any.whl (28 kB)\n",
      "Collecting JPype1>=0.7.0\n",
      "  Downloading JPype1-0.7.5-cp36-cp36m-manylinux2010_x86_64.whl (3.6 MB)\n",
      "\u001b[K     |████████████████████████████████| 3.6 MB 20.7 MB/s eta 0:00:01    | 3.1 MB 20.7 MB/s eta 0:00:01\n",
      "\u001b[?25hRequirement already satisfied: colorama in /opt/conda/envs/Python36/lib/python3.6/site-packages (from konlpy) (0.4.1)\n",
      "Collecting beautifulsoup4==4.6.0\n",
      "  Downloading beautifulsoup4-4.6.0-py3-none-any.whl (86 kB)\n",
      "\u001b[K     |████████████████████████████████| 86 kB 5.1 MB/s  eta 0:00:01\n",
      "\u001b[?25hRequirement already satisfied: numpy>=1.6 in /opt/conda/envs/Python36/lib/python3.6/site-packages (from konlpy) (1.15.4)\n",
      "Requirement already satisfied: PySocks>=1.5.7 in /opt/conda/envs/Python36/lib/python3.6/site-packages (from tweepy>=3.7.0->konlpy) (1.6.8)\n",
      "Requirement already satisfied: requests>=2.11.1 in /opt/conda/envs/Python36/lib/python3.6/site-packages (from tweepy>=3.7.0->konlpy) (2.21.0)\n",
      "Requirement already satisfied: six>=1.10.0 in /opt/conda/envs/Python36/lib/python3.6/site-packages (from tweepy>=3.7.0->konlpy) (1.12.0)\n",
      "Collecting requests-oauthlib>=0.7.0\n",
      "  Downloading requests_oauthlib-1.3.0-py2.py3-none-any.whl (23 kB)\n",
      "Requirement already satisfied: urllib3<1.25,>=1.21.1 in /opt/conda/envs/Python36/lib/python3.6/site-packages (from requests>=2.11.1->tweepy>=3.7.0->konlpy) (1.24.1)\n",
      "Requirement already satisfied: chardet<3.1.0,>=3.0.2 in /opt/conda/envs/Python36/lib/python3.6/site-packages (from requests>=2.11.1->tweepy>=3.7.0->konlpy) (3.0.4)\n",
      "Requirement already satisfied: certifi>=2017.4.17 in /opt/conda/envs/Python36/lib/python3.6/site-packages (from requests>=2.11.1->tweepy>=3.7.0->konlpy) (2020.4.5.1)\n",
      "Requirement already satisfied: idna<2.9,>=2.5 in /opt/conda/envs/Python36/lib/python3.6/site-packages (from requests>=2.11.1->tweepy>=3.7.0->konlpy) (2.8)\n",
      "Collecting oauthlib>=3.0.0\n",
      "  Downloading oauthlib-3.1.0-py2.py3-none-any.whl (147 kB)\n",
      "\u001b[K     |████████████████████████████████| 147 kB 15.7 MB/s eta 0:00:01\n",
      "\u001b[?25hInstalling collected packages: oauthlib, requests-oauthlib, tweepy, JPype1, beautifulsoup4, konlpy\n",
      "  Attempting uninstall: JPype1\n",
      "    Found existing installation: JPype1 0.6.3\n",
      "    Uninstalling JPype1-0.6.3:\n",
      "      Successfully uninstalled JPype1-0.6.3\n",
      "  Attempting uninstall: beautifulsoup4\n",
      "    Found existing installation: beautifulsoup4 4.7.1\n",
      "    Uninstalling beautifulsoup4-4.7.1:\n",
      "      Successfully uninstalled beautifulsoup4-4.7.1\n",
      "Successfully installed JPype1-0.7.5 beautifulsoup4-4.6.0 konlpy-0.5.2 oauthlib-3.1.0 requests-oauthlib-1.3.0 tweepy-3.8.0\n",
      "Collecting gensim\n",
      "  Downloading gensim-3.8.3-cp36-cp36m-manylinux1_x86_64.whl (24.2 MB)\n",
      "\u001b[K     |████████████████████████████████| 24.2 MB 305 kB/s eta 0:00:01\n",
      "\u001b[?25hRequirement already satisfied: six>=1.5.0 in /opt/conda/envs/Python36/lib/python3.6/site-packages (from gensim) (1.12.0)\n",
      "Requirement already satisfied: scipy>=0.18.1 in /opt/conda/envs/Python36/lib/python3.6/site-packages (from gensim) (1.2.0)\n",
      "Collecting smart-open>=1.8.1\n",
      "  Downloading smart_open-2.0.0.tar.gz (103 kB)\n",
      "\u001b[K     |████████████████████████████████| 103 kB 18.8 MB/s eta 0:00:01\n",
      "\u001b[?25hRequirement already satisfied: numpy>=1.11.3 in /opt/conda/envs/Python36/lib/python3.6/site-packages (from gensim) (1.15.4)\n",
      "Requirement already satisfied: requests in /opt/conda/envs/Python36/lib/python3.6/site-packages (from smart-open>=1.8.1->gensim) (2.21.0)\n",
      "Requirement already satisfied: boto in /opt/conda/envs/Python36/lib/python3.6/site-packages (from smart-open>=1.8.1->gensim) (2.49.0)\n",
      "Requirement already satisfied: boto3 in /opt/conda/envs/Python36/lib/python3.6/site-packages (from smart-open>=1.8.1->gensim) (1.9.82)\n",
      "Requirement already satisfied: idna<2.9,>=2.5 in /opt/conda/envs/Python36/lib/python3.6/site-packages (from requests->smart-open>=1.8.1->gensim) (2.8)\n",
      "Requirement already satisfied: urllib3<1.25,>=1.21.1 in /opt/conda/envs/Python36/lib/python3.6/site-packages (from requests->smart-open>=1.8.1->gensim) (1.24.1)\n",
      "Requirement already satisfied: chardet<3.1.0,>=3.0.2 in /opt/conda/envs/Python36/lib/python3.6/site-packages (from requests->smart-open>=1.8.1->gensim) (3.0.4)\n",
      "Requirement already satisfied: certifi>=2017.4.17 in /opt/conda/envs/Python36/lib/python3.6/site-packages (from requests->smart-open>=1.8.1->gensim) (2020.4.5.1)\n",
      "Requirement already satisfied: botocore<1.13.0,>=1.12.82 in /opt/conda/envs/Python36/lib/python3.6/site-packages (from boto3->smart-open>=1.8.1->gensim) (1.12.82)\n",
      "Requirement already satisfied: jmespath<1.0.0,>=0.7.1 in /opt/conda/envs/Python36/lib/python3.6/site-packages (from boto3->smart-open>=1.8.1->gensim) (0.9.3)\n",
      "Requirement already satisfied: s3transfer<0.2.0,>=0.1.10 in /opt/conda/envs/Python36/lib/python3.6/site-packages (from boto3->smart-open>=1.8.1->gensim) (0.1.13)\n",
      "Requirement already satisfied: docutils>=0.10 in /opt/conda/envs/Python36/lib/python3.6/site-packages (from botocore<1.13.0,>=1.12.82->boto3->smart-open>=1.8.1->gensim) (0.14)\n",
      "Requirement already satisfied: python-dateutil<3.0.0,>=2.1 in /opt/conda/envs/Python36/lib/python3.6/site-packages (from botocore<1.13.0,>=1.12.82->boto3->smart-open>=1.8.1->gensim) (2.7.5)\n",
      "Building wheels for collected packages: smart-open\n",
      "  Building wheel for smart-open (setup.py) ... \u001b[?25ldone\n",
      "\u001b[?25h  Created wheel for smart-open: filename=smart_open-2.0.0-py3-none-any.whl size=101341 sha256=9381b22960995d14a8afd24f851d367856c02bbc9fbb3712dafb755dd3ca0e10\n",
      "  Stored in directory: /home/dsxuser/.cache/pip/wheels/16/64/85/f3205b74e01a98fb81e081c0d61c2ecd04e4645a986db3726e\n",
      "Successfully built smart-open\n",
      "Installing collected packages: smart-open, gensim\n",
      "Successfully installed gensim-3.8.3 smart-open-2.0.0\n"
     ]
    }
   ],
   "source": [
    "! pip  install konlpy\n",
    "! pip install gensim"
   ]
  },
  {
   "cell_type": "code",
   "execution_count": 3,
   "metadata": {},
   "outputs": [
    {
     "name": "stdout",
     "output_type": "stream",
     "text": [
      "--2020-05-29 12:27:21--  https://docs.google.com/uc?export=download&confirm=rTHY&id=1ud4DopDTWm0YBN_tpkvQ3Qax87UDgpcO\n",
      "Resolving docs.google.com (docs.google.com)... 216.58.193.142, 2607:f8b0:4000:80e::200e\n",
      "Connecting to docs.google.com (docs.google.com)|216.58.193.142|:443... connected.\n",
      "HTTP request sent, awaiting response... 302 Moved Temporarily\n",
      "Location: https://doc-0s-b4-docs.googleusercontent.com/docs/securesc/23nc6jr4v8thnhf9tuu2fmj80n2pjfou/8ofiq5h2h03vvg9hoq3q9r5f6c3vje25/1590755175000/04591858293269658552/04962245066111994690Z/1ud4DopDTWm0YBN_tpkvQ3Qax87UDgpcO?e=download [following]\n",
      "--2020-05-29 12:27:21--  https://doc-0s-b4-docs.googleusercontent.com/docs/securesc/23nc6jr4v8thnhf9tuu2fmj80n2pjfou/8ofiq5h2h03vvg9hoq3q9r5f6c3vje25/1590755175000/04591858293269658552/04962245066111994690Z/1ud4DopDTWm0YBN_tpkvQ3Qax87UDgpcO?e=download\n",
      "Resolving doc-0s-b4-docs.googleusercontent.com (doc-0s-b4-docs.googleusercontent.com)... 172.217.1.225, 2607:f8b0:4000:815::2001\n",
      "Connecting to doc-0s-b4-docs.googleusercontent.com (doc-0s-b4-docs.googleusercontent.com)|172.217.1.225|:443... connected.\n",
      "HTTP request sent, awaiting response... 302 Found\n",
      "Location: https://docs.google.com/nonceSigner?nonce=sinjem0tnqfec&continue=https://doc-0s-b4-docs.googleusercontent.com/docs/securesc/23nc6jr4v8thnhf9tuu2fmj80n2pjfou/8ofiq5h2h03vvg9hoq3q9r5f6c3vje25/1590755175000/04591858293269658552/04962245066111994690Z/1ud4DopDTWm0YBN_tpkvQ3Qax87UDgpcO?e%3Ddownload&hash=3ssrjq2tl0819kgcfa7blaajqsf61bhu [following]\n",
      "--2020-05-29 12:27:21--  https://docs.google.com/nonceSigner?nonce=sinjem0tnqfec&continue=https://doc-0s-b4-docs.googleusercontent.com/docs/securesc/23nc6jr4v8thnhf9tuu2fmj80n2pjfou/8ofiq5h2h03vvg9hoq3q9r5f6c3vje25/1590755175000/04591858293269658552/04962245066111994690Z/1ud4DopDTWm0YBN_tpkvQ3Qax87UDgpcO?e%3Ddownload&hash=3ssrjq2tl0819kgcfa7blaajqsf61bhu\n",
      "Connecting to docs.google.com (docs.google.com)|216.58.193.142|:443... connected.\n",
      "HTTP request sent, awaiting response... 302 Found\n",
      "Location: https://doc-0s-b4-docs.googleusercontent.com/docs/securesc/23nc6jr4v8thnhf9tuu2fmj80n2pjfou/8ofiq5h2h03vvg9hoq3q9r5f6c3vje25/1590755175000/04591858293269658552/04962245066111994690Z/1ud4DopDTWm0YBN_tpkvQ3Qax87UDgpcO?e=download&nonce=sinjem0tnqfec&user=04962245066111994690Z&hash=8923aejmgru9aq8b4avftedfdnrqjcf3 [following]\n",
      "--2020-05-29 12:27:22--  https://doc-0s-b4-docs.googleusercontent.com/docs/securesc/23nc6jr4v8thnhf9tuu2fmj80n2pjfou/8ofiq5h2h03vvg9hoq3q9r5f6c3vje25/1590755175000/04591858293269658552/04962245066111994690Z/1ud4DopDTWm0YBN_tpkvQ3Qax87UDgpcO?e=download&nonce=sinjem0tnqfec&user=04962245066111994690Z&hash=8923aejmgru9aq8b4avftedfdnrqjcf3\n",
      "Connecting to doc-0s-b4-docs.googleusercontent.com (doc-0s-b4-docs.googleusercontent.com)|172.217.1.225|:443... connected.\n",
      "HTTP request sent, awaiting response... 200 OK\n",
      "Length: unspecified [application/zip]\n",
      "Saving to: ‘NaverMovie.model.zip’\n",
      "\n",
      "    [         <=>                           ] 72,411,034  21.7MB/s   in 3.2s   \n",
      "\n",
      "2020-05-29 12:27:25 (21.7 MB/s) - ‘NaverMovie.model.zip’ saved [72411034]\n",
      "\n"
     ]
    }
   ],
   "source": [
    "! wget --load-cookies cookies.txt \"https://docs.google.com/uc?export=download&confirm=$(wget --quiet --save-cookies cookies.txt --keep-session-cookies --no-check-certificate 'https://docs.google.com/uc?export=download&id=1ud4DopDTWm0YBN_tpkvQ3Qax87UDgpcO' -O- | sed -rn 's/.*confirm=([0-9A-Za-z_]+).*/\\1\\n/p')&id=1ud4DopDTWm0YBN_tpkvQ3Qax87UDgpcO\" -O NaverMovie.model.zip && rm -rf cookies.txt"
   ]
  },
  {
   "cell_type": "code",
   "execution_count": 4,
   "metadata": {},
   "outputs": [
    {
     "name": "stdout",
     "output_type": "stream",
     "text": [
      "total 70716\r\n",
      "-rw-r----- 1 dsxuser dsxuser 72411034 May 29 12:27 NaverMovie.model.zip\r\n"
     ]
    }
   ],
   "source": [
    "! ls -l "
   ]
  },
  {
   "cell_type": "code",
   "execution_count": 5,
   "metadata": {},
   "outputs": [
    {
     "name": "stdout",
     "output_type": "stream",
     "text": [
      "Archive:  NaverMovie.model.zip\n",
      "  inflating: NaverMovie.model        \n",
      "   creating: __MACOSX/\n",
      "  inflating: __MACOSX/._NaverMovie.model  \n"
     ]
    }
   ],
   "source": [
    "! unzip -o NaverMovie.model.zip"
   ]
  },
  {
   "cell_type": "code",
   "execution_count": 6,
   "metadata": {},
   "outputs": [],
   "source": [
    " import csv\n",
    " from konlpy.tag import Okt\n",
    " from gensim.models import word2vec"
   ]
  },
  {
   "cell_type": "code",
   "execution_count": 7,
   "metadata": {},
   "outputs": [
    {
     "name": "stdout",
     "output_type": "stream",
     "text": [
      "***배트맨*****\n",
      "[('비긴즈', 0.7024390697479248), ('신용카드', 0.6246640682220459), ('포에버', 0.6128871440887451), ('다크나이트', 0.5437884330749512), ('조엘', 0.5344933867454529), ('담시', 0.5325262546539307), ('시리즈', 0.5035833716392517), ('버튼', 0.49162429571151733), ('배트', 0.48448026180267334), ('베트맨', 0.48180198669433594)]\n",
      "***겨울왕국*****\n",
      "[('라푼젤', 0.6613779067993164), ('라이언킹', 0.5773433446884155), ('애니', 0.551832914352417), ('토이스토리', 0.5433341264724731), ('프로즌', 0.5401562452316284), ('더빙', 0.537048876285553), ('애니메이션', 0.5346932411193848), ('더파이팅', 0.5277788639068604), ('어린이날', 0.5253665447235107), ('디즈니', 0.522940993309021)]\n"
     ]
    }
   ],
   "source": [
    "model = word2vec.Word2Vec.load(\"NaverMovie.model\")\n",
    "print(\"***배트맨*****\")\n",
    "print(model.wv.most_similar(positive=[\"배트맨\"]))\n",
    "print(\"***겨울왕국*****\")\n",
    "print(model.wv.most_similar(positive=[\"겨울왕국\"]))"
   ]
  }
 ],
 "metadata": {
  "kernelspec": {
   "display_name": "Python 3.6",
   "language": "python",
   "name": "python3"
  },
  "language_info": {
   "codemirror_mode": {
    "name": "ipython",
    "version": 3
   },
   "file_extension": ".py",
   "mimetype": "text/x-python",
   "name": "python",
   "nbconvert_exporter": "python",
   "pygments_lexer": "ipython3",
   "version": "3.6.9"
  }
 },
 "nbformat": 4,
 "nbformat_minor": 2
}
